{
 "cells": [
  {
   "attachments": {},
   "cell_type": "markdown",
   "metadata": {},
   "source": [
    "# Quantifying Shakespeare\n",
    "Analyzing the frequencies of different letters in Shakespeare's work.\n",
    "\n",
    "(Data from: bit.ly/shakespeare-txt)\n",
    "\n",
    "In this notebook, we will:\n",
    "1. Read all of Shakespeare's works into a list of strings\n",
    "2. Count the frequencies of letters used\n",
    "3. Visualize the frequencies with a bar graph"
   ]
  },
  {
   "cell_type": "code",
   "execution_count": 26,
   "metadata": {},
   "outputs": [
    {
     "name": "stdout",
     "output_type": "stream",
     "text": [
      "124456\n"
     ]
    }
   ],
   "source": [
    "from io import TextIOWrapper\n",
    "\n",
    "def read_lines(file_name: str) -> list[str]:\n",
    "    \"\"\"Read a .txt file into a list of strings for each line\"\"\"\n",
    "    lines: list[str] = []\n",
    "    file_handle: TextIOWrapper = open(file_name, \"r\")\n",
    "    for line in file_handle:\n",
    "        # strip leading and trailing whitespace \"   a dog   \" -> \"a dog\"\n",
    "        line = line.strip()\n",
    "        # make everything lowercase\n",
    "        line = line.lower()\n",
    "        lines.append(line)\n",
    "    file_handle.close()\n",
    "    return lines\n",
    "\n",
    "shakes_lines: list[str] = read_lines(\"../data/t8.shakespeare.txt\")\n",
    "print(len(shakes_lines))"
   ]
  },
  {
   "cell_type": "code",
   "execution_count": 27,
   "metadata": {},
   "outputs": [
    {
     "data": {
      "text/plain": [
       "{'t': 329775,\n",
       " 'h': 236868,\n",
       " 'i': 253990,\n",
       " 's': 248989,\n",
       " 'e': 447204,\n",
       " 'x': 5294,\n",
       " 'f': 80516,\n",
       " 'l': 170019,\n",
       " 'p': 58464,\n",
       " 'r': 237864,\n",
       " 'n': 243262,\n",
       " 'd': 149462,\n",
       " 'b': 61956,\n",
       " 'y': 94370,\n",
       " 'o': 314600,\n",
       " 'j': 4779,\n",
       " 'c': 88185,\n",
       " 'g': 68199,\n",
       " 'u': 128947,\n",
       " 'a': 289150,\n",
       " 'w': 89390,\n",
       " 'm': 111452,\n",
       " 'k': 35408,\n",
       " 'v': 37569,\n",
       " 'z': 1631,\n",
       " 'q': 3582}"
      ]
     },
     "execution_count": 27,
     "metadata": {},
     "output_type": "execute_result"
    }
   ],
   "source": [
    "def tally(counts: dict[str, int], key: str) -> None:\n",
    "    \"\"\"Mutate counts by increasing the value stored at key by 1.\"\"\"\n",
    "    if key in counts:\n",
    "        counts[key] += 1\n",
    "    else:\n",
    "        counts[key] = 1\n",
    "    \n",
    "def count_letters(lines: list[str]) -> dict[str, int]:\n",
    "    \"\"\"Counts the number of each letter in a string.\"\"\"\n",
    "    counts: dict[str, int] = dict()\n",
    "\n",
    "    for word in lines:\n",
    "        for char in word:\n",
    "            char = char.lower()\n",
    "            if char.isalpha():\n",
    "                tally(counts, char)\n",
    "    \n",
    "    return counts\n",
    "\n",
    "shakes_letters: dict[str, int] = count_letters(shakes_lines)\n",
    "shakes_letters"
   ]
  },
  {
   "cell_type": "code",
   "execution_count": 28,
   "metadata": {},
   "outputs": [
    {
     "data": {
      "text/plain": [
       "{'a': 289150,\n",
       " 'b': 61956,\n",
       " 'c': 88185,\n",
       " 'd': 149462,\n",
       " 'e': 447204,\n",
       " 'f': 80516,\n",
       " 'g': 68199,\n",
       " 'h': 236868,\n",
       " 'i': 253990,\n",
       " 'j': 4779,\n",
       " 'k': 35408,\n",
       " 'l': 170019,\n",
       " 'm': 111452,\n",
       " 'n': 243262,\n",
       " 'o': 314600,\n",
       " 'p': 58464,\n",
       " 'q': 3582,\n",
       " 'r': 237864,\n",
       " 's': 248989,\n",
       " 't': 329775,\n",
       " 'u': 128947,\n",
       " 'v': 37569,\n",
       " 'w': 89390,\n",
       " 'x': 5294,\n",
       " 'y': 94370,\n",
       " 'z': 1631}"
      ]
     },
     "execution_count": 28,
     "metadata": {},
     "output_type": "execute_result"
    }
   ],
   "source": [
    "shakes_letters_list = list(shakes_letters.items())\n",
    "shakes_letters_list = sorted(shakes_letters_list)\n",
    "shakes_letters_sorted = dict(shakes_letters_list)\n",
    "shakes_letters_sorted"
   ]
  },
  {
   "cell_type": "code",
   "execution_count": 29,
   "metadata": {},
   "outputs": [
    {
     "data": {
      "text/plain": [
       "<BarContainer object of 26 artists>"
      ]
     },
     "execution_count": 29,
     "metadata": {},
     "output_type": "execute_result"
    },
    {
     "data": {
      "image/png": "[encoded data removed]",
      "text/plain": [
       "<Figure size 640x480 with 1 Axes>"
      ]
     },
     "metadata": {},
     "output_type": "display_data"
    }
   ],
   "source": [
    "from matplotlib import pyplot as py\n",
    "\n",
    "py.title(\"Letter Frequencies\")\n",
    "py.xlabel(\"Letters\")\n",
    "py.ylabel(\"Frequency\")\n",
    "\n",
    "x_values: list[str] = shakes_letters_sorted.keys()\n",
    "y_values: list[str] = shakes_letters_sorted.values()\n",
    "py.bar(x_values, y_values)"
   ]
  }
 ],
 "metadata": {
  "kernelspec": {
   "display_name": "Python 3",
   "language": "python",
   "name": "python3"
  },
  "language_info": {
   "codemirror_mode": {
    "name": "ipython",
    "version": 3
   },
   "file_extension": ".py",
   "mimetype": "text/x-python",
   "name": "python",
   "nbconvert_exporter": "python",
   "pygments_lexer": "ipython3",
   "version": "3.11.1"
  },
  "orig_nbformat": 4,
  "vscode": {
   "interpreter": {
    "hash": "aee8b7b246df8f9039afb4144a1f6fd8d2ca17a180786b69acc140d282b71a49"
   }
  }
 },
 "nbformat": 4,
 "nbformat_minor": 2
}
