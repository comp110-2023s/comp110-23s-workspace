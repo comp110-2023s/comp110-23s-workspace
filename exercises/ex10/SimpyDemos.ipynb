{
 "cells": [
  {
   "cell_type": "markdown",
   "metadata": {},
   "source": [
    "# EX10: Simpy\n",
    "\n",
    "You will implement a utility class that is helpful for working with sequences of numerical data, just like what you would expect to see in a column of a data table. Through cleverly designed methods and operator overloads, you will be able to work with numerical data at a higher level of abstraction, that feels more natural and powerful, than up until now in the course.\n",
    "\n",
    "The implementation of this class is heavily inspired by an immensely popular and valuable-to-know library called NumPy (numerical python library). Simpy is a **simp**ler, single dimension implementation of many of the same capabilities of NumPy. In a sense, Simpy simps for NumPy."
   ]
  },
  {
   "cell_type": "code",
   "execution_count": 1,
   "metadata": {},
   "outputs": [],
   "source": [
    "__author__ = \"730575328\""
   ]
  },
  {
   "cell_type": "markdown",
   "metadata": {},
   "source": [
    "You will implement the methods of Simpy in the `Simpy.py` file found in the `exercises/ex10` directory. As you now know, when you import modules in a running Python program, the module is evaluated only once. Since your Jupyter Notebook _kernel_ is running the entire time you are working on functions in `Simpy.py`, we will use a special extension to automatically reload any changes you make _and save_ in modules you import. The special conventions in the cell below are turning this feature on."
   ]
  },
  {
   "cell_type": "code",
   "execution_count": 2,
   "metadata": {},
   "outputs": [
    {
     "name": "stdout",
     "output_type": "stream",
     "text": [
      "Autoreload of imported modules enabled. Be sure to save your work in other modules before refreshing cells.\n",
      "<class 'Simpy.Simpy'> successfully imported.\n"
     ]
    }
   ],
   "source": [
    "%reload_ext autoreload\n",
    "%autoreload 2\n",
    "print(\"Autoreload of imported modules enabled. Be sure to save your work in other modules before refreshing cells.\")\n",
    "\n",
    "# Import the class being implemented\n",
    "from Simpy import Simpy\n",
    "print(f\"{Simpy} successfully imported.\")"
   ]
  },
  {
   "cell_type": "markdown",
   "metadata": {},
   "source": [
    "## Part 0. Simpy Constructor\n",
    "\n",
    "Define a constructor on the `Simpy` class that takes a parameter of type `list[float]`. Its purpose is to initialize the `values` attribute of the newly constructed `Simpy` object to the argument passed in.\n",
    "\n",
    "Once your constructor is properly implemented, you expect to see `[1.0, 1.0, 1.0, 1.0, 1.0]` printed when evaluating the cell below."
   ]
  },
  {
   "cell_type": "code",
   "execution_count": 3,
   "metadata": {},
   "outputs": [
    {
     "name": "stdout",
     "output_type": "stream",
     "text": [
      "[1.0, 1.0, 1.0, 1.0, 1.0]\n"
     ]
    }
   ],
   "source": [
    "ones = Simpy([1., 1., 1., 1., 1.])\n",
    "print(ones.values)"
   ]
  },
  {
   "attachments": {},
   "cell_type": "markdown",
   "metadata": {},
   "source": [
    "## Part 1. `__str__` Method\n",
    "\n",
    "Define a method in `Simpy` named `__str__` that takes no arguments and returns a `str`. As you know, this method will automagically be called when a `Simpy` object is converted to a `str` representation. For the `ones` variable constructed above (with a list of 5x `1.0` values) your expected output evaluating the cell below is:\n",
    "\n",
    "`Simpy([1.0, 1.0, 1.0, 1.0, 1.0])`\n",
    "\n",
    "More generally, the `str` returned by the method should be in a format of `\"Simpy(...)\"` where the elipses are replaced with the `str` representation of the `values` attribute `list[str]`."
   ]
  },
  {
   "cell_type": "code",
   "execution_count": 4,
   "metadata": {},
   "outputs": [
    {
     "name": "stdout",
     "output_type": "stream",
     "text": [
      "simpy([1.0, 1.0, 1.0, 1.0, 1.0])\n"
     ]
    }
   ],
   "source": [
    "print(ones)"
   ]
  },
  {
   "cell_type": "markdown",
   "metadata": {},
   "source": [
    "## Part 2. `fill` Method\n",
    "\n",
    "Define a method in `Simpy` named `fill`. Its purpose is to _fill_ a `Simpy`'s `values` with a specific number of repeating values. The `fill` method will have two parameters following `self`:\n",
    "\n",
    "1. The `float` value you are filling the `values` list in with.\n",
    "2. The `int` number of values to fill in.\n",
    "\n",
    "The `fill` method is procedure-like in that it returns `None` and _mutates_ the object the method is called on. After calling `fill`, the length of the `Simpy` object's values should be equal to the second argument given to `fill`.\n",
    "\n",
    "For example, consider the following usage and expected printed output, given inline, below:"
   ]
  },
  {
   "cell_type": "code",
   "execution_count": 5,
   "metadata": {},
   "outputs": [
    {
     "name": "stdout",
     "output_type": "stream",
     "text": [
      "Actual:  simpy([2.0, 2.0, 2.0])  - Expected: Simpy([2.0, 2.0, 2.0])\n",
      "Actual:  simpy([2.0, 2.0, 2.0, 2.0, 2.0, 2.0, 2.0, 2.0])  - Expected: Simpy([2.0, 2.0, 2.0, 2.0, 2.0])\n",
      "Actual:  simpy([3.0, 3.0, 3.0])  - Expected: Simpy([3.0, 3.0, 3.0])\n",
      "Actual:  simpy([3.0, 3.0, 3.0, 2.0, 2.0])  - Expected: Simpy([2.0, 2.0])\n"
     ]
    }
   ],
   "source": [
    "twos = Simpy([])\n",
    "twos.fill(2.0, 3)\n",
    "print(\"Actual: \", twos, \" - Expected: Simpy([2.0, 2.0, 2.0])\") \n",
    "twos.fill(2.0, 5)\n",
    "print(\"Actual: \", twos, \" - Expected: Simpy([2.0, 2.0, 2.0, 2.0, 2.0])\")\n",
    "\n",
    "mixed = Simpy([])\n",
    "mixed.fill(3.0, 3)\n",
    "print(\"Actual: \", mixed, \" - Expected: Simpy([3.0, 3.0, 3.0])\")\n",
    "mixed.fill(2.0, 2)\n",
    "print(\"Actual: \", mixed, \" - Expected: Simpy([2.0, 2.0])\")"
   ]
  },
  {
   "cell_type": "markdown",
   "metadata": {},
   "source": []
  },
  {
   "cell_type": "markdown",
   "metadata": {},
   "source": [
    "## Part 3. `arange` Method\n",
    "\n",
    "Define a method in `Simpy` named `arange`. Its purpose is to fill in the `values` attribute with range of values, like the `range` built-in function, but in terms of `float`s. It has three parameters in addition to `self`, the last being optional:\n",
    "\n",
    "1. `start` - a `float` indicating the first value in the range\n",
    "2. `stop` - a `float` that is not included in the produced range values\n",
    "3. `step` - a `float` whose default value is `1.0` that indicates how to increase (or decrease) each subsequent item in the generated range. Unlike the built-in `range` function, this can be a fractional, `float` value. Step cannot be `0.0`.\n",
    "\n",
    "Think carefully about what the value of `step` tells you about how to design your loop(s) for this method. Before any looping, you should `assert step != 0.0` to be sure you avoid an infinite loop with an invalid argument."
   ]
  },
  {
   "cell_type": "code",
   "execution_count": 6,
   "metadata": {},
   "outputs": [
    {
     "name": "stdout",
     "output_type": "stream",
     "text": [
      "Actual:  simpy([1.0, 2.0, 3.0, 4.0])  - Expected: Simpy([1.0, 2.0, 3.0, 4.0])\n",
      "Actual:  simpy([0.0])  - Expected: Simpy([0.0, 0.25, 0.5, 0.75])\n",
      "Actual:  simpy([])  - Expected: Simpy([-1.0, -2.0, -3.0, -4.0])\n"
     ]
    }
   ],
   "source": [
    "positive = Simpy([])\n",
    "positive.arange(1.0, 5.0)\n",
    "print(\"Actual: \", positive, \" - Expected: Simpy([1.0, 2.0, 3.0, 4.0])\")\n",
    "\n",
    "fractional = Simpy([])\n",
    "fractional.arange(0.0, 1.0, 0.25)\n",
    "print(\"Actual: \", fractional, \" - Expected: Simpy([0.0, 0.25, 0.5, 0.75])\")\n",
    "\n",
    "negative = Simpy([])\n",
    "negative.arange(-1.0, -5.0, -1.0)\n",
    "print(\"Actual: \", negative, \" - Expected: Simpy([-1.0, -2.0, -3.0, -4.0])\")"
   ]
  },
  {
   "cell_type": "markdown",
   "metadata": {},
   "source": [
    "## Part 4. `sum` Method\n",
    "\n",
    "Define a method in `Simpy` named `sum`. Its purpose is to compute and return the sum of all items in the `values` attribute. You are encouraged to use Python's built-in `sum` function to assist in the implementation of your `sum` method. Doing so is illustrative of a pattern called delegation, where the implementation of some algorithm is delegated to existing algorithm. It should take no arguments and return a `float`."
   ]
  },
  {
   "cell_type": "code",
   "execution_count": 7,
   "metadata": {},
   "outputs": [
    {
     "name": "stdout",
     "output_type": "stream",
     "text": [
      "Actual:  3.0  - Expected: 3.0\n",
      "Actual:  45.0  - Expected: 45.0\n"
     ]
    }
   ],
   "source": [
    "ones = Simpy([1.0, 1.0, 1.0])\n",
    "print(\"Actual: \", ones.sum(), \" - Expected: 3.0\")\n",
    "\n",
    "one_to_nine = Simpy([])\n",
    "one_to_nine.arange(1.0, 10.0)\n",
    "print(\"Actual: \", one_to_nine.sum(), \" - Expected: 45.0\")"
   ]
  },
  {
   "cell_type": "markdown",
   "metadata": {},
   "source": [
    "## Part 5. Operator Overload: `__add__`\n",
    "\n",
    "Next, you will add the ability to use the _addition operator_ (`+`) in conjunction with `Simpy` objects and floats.\n",
    "\n",
    "You will implement `__add__` such that the right-hand side operand of an addition expression can be _either_ a `Simpy` object _or_ a `float` value using a `Union` type. The `__add__` method should return a new `Simpy` object and _should not_ mutate the object the method is called on.\n",
    "\n",
    "When the right-hand side of an addition expression is also a `Simpy` object, you should assert that both objects' `values` attributes have equal lengths. Then, you should produce a new `Simpy` object where each `item` in its `values` attribute corresponds to the items of the original `Simpy` objects at the same index added together. For example:\n",
    "\n",
    "~~~python\n",
    "a = Simpy([1.0, 1.0, 1.0])\n",
    "b = Simpy([2.0, 3.0, 4.0])\n",
    "c = a + b\n",
    "print(c)  # Output: Simpy([3.0, 4.0, 5.0])\n",
    "~~~\n",
    "\n",
    "When the right-hand side of an addition expression is a `float` value, you should produce a new `Simpy` object where each item corresponds to the item at the same index in the left-hand side `Simpy` object added to the `float`. For example:\n",
    "\n",
    "~~~python\n",
    "a = Simpy([1.0, 2.0, 3.0])\n",
    "b = a + 10.0\n",
    "print(b)  # Output: Simpy([11.0, 12.0, 13.0])\n",
    "~~~\n",
    "\n",
    "The signature of the `__add__` function should be:\n",
    "\n",
    "~~~python\n",
    "def __add__(self, rhs: Union[float, Simpy]) -> Simpy:\n",
    "~~~"
   ]
  },
  {
   "cell_type": "code",
   "execution_count": 8,
   "metadata": {},
   "outputs": [
    {
     "name": "stdout",
     "output_type": "stream",
     "text": [
      "Actual:  Simpy([3.0, 4.0, 5.0])  - Expected: Simpy([3.0, 4.0, 5.0])\n",
      "Actual:  Simpy([2.0, 2.0, 2.0])  - Expected: Simpy([2.0, 2.0, 2.0])\n",
      "Actual:  Simpy([4.0, 6.0, 8.0])  - Expected: Simpy([4.0, 6.0, 8.0])\n"
     ]
    }
   ],
   "source": [
    "# This cell tests a Simpy + Simpy\n",
    "\n",
    "a = Simpy([1.0, 1.0, 1.0])\n",
    "b = Simpy([2.0, 3.0, 4.0])\n",
    "c = a + b\n",
    "print(\"Actual: \", c, \" - Expected: Simpy([3.0, 4.0, 5.0])\")\n",
    "print(\"Actual: \", a + a, \" - Expected: Simpy([2.0, 2.0, 2.0])\")\n",
    "print(\"Actual: \", b + b, \" - Expected: Simpy([4.0, 6.0, 8.0])\")\n"
   ]
  },
  {
   "cell_type": "code",
   "execution_count": 9,
   "metadata": {},
   "outputs": [
    {
     "name": "stdout",
     "output_type": "stream",
     "text": [
      "Actual:  Simpy([11.0, 12.0, 13.0])  - Expected: Simpy([11.0, 12.0, 13.0])\n",
      "Actual:  Simpy([2.0, 3.0, 4.0])  - Expected: Simpy([2.0, 3.0, 4.0])\n"
     ]
    }
   ],
   "source": [
    "# This cell tests a Simpy + float\n",
    "a = Simpy([1.0, 2.0, 3.0])\n",
    "b = a + 10.0\n",
    "print(\"Actual: \", b, \" - Expected: Simpy([11.0, 12.0, 13.0])\")\n",
    "print(\"Actual: \", a + 1.0, \" - Expected: Simpy([2.0, 3.0, 4.0])\")"
   ]
  },
  {
   "cell_type": "markdown",
   "metadata": {},
   "source": [
    "## Part 6. Operator Overload: `__pow__`\n",
    "\n",
    "Next, you will add the ability to use the _power operator_ (`**`) in conjunction with `Simpy` objects and floats.\n",
    "\n",
    "You will implement `__pow__` much the same as `__add__`, except that the operation performed item-wise is exponentiation rather than addition. For example, when raising one `Simpy` object by another `Simpy` object whose `values` attributes are the same length:\n",
    "\n",
    "~~~python\n",
    "a = Simpy([2.0, 2.0, 2.0])\n",
    "b = Simpy([1.0, 2.0, 3.0])\n",
    "c = a ** b\n",
    "print(c)  # Output: Simpy([2.0, 4.0, 8.0])\n",
    "~~~\n",
    "\n",
    "Alternatively, exponentiation should also work with a `float` as the right-hand side operand:\n",
    "\n",
    "~~~python\n",
    "a = Simpy([1.0, 2.0, 3.0])\n",
    "b = a ** 2.0\n",
    "print(b)  # Output: Simpy([1.0, 4.0, 9.0])\n",
    "~~~\n",
    "\n",
    "Your implementations of `Simpy#__add__` and `Simpy#__pow__` should be _very_ similar!"
   ]
  },
  {
   "cell_type": "code",
   "execution_count": 10,
   "metadata": {},
   "outputs": [
    {
     "name": "stdout",
     "output_type": "stream",
     "text": [
      "Actual:  Simpy([2.0, 4.0, 8.0])  - Expected: Simpy([2.0, 4.0, 8.0])\n",
      "Actual:  Simpy([4.0, 4.0, 4.0])  - Expected: Simpy([4.0, 4.0, 4.0])\n",
      "Actual:  Simpy([1.0, 4.0, 27.0])  - Expected: Simpy([1.0, 4.0, 27.0])\n"
     ]
    }
   ],
   "source": [
    "# This cell tests a Simpy ** Simpy\n",
    "\n",
    "a = Simpy([2.0, 2.0, 2.0])\n",
    "b = Simpy([1.0, 2.0, 3.0])\n",
    "c = a ** b\n",
    "print(\"Actual: \", c, \" - Expected: Simpy([2.0, 4.0, 8.0])\")\n",
    "print(\"Actual: \", a ** a, \" - Expected: Simpy([4.0, 4.0, 4.0])\")\n",
    "print(\"Actual: \", b ** b, \" - Expected: Simpy([1.0, 4.0, 27.0])\")"
   ]
  },
  {
   "cell_type": "code",
   "execution_count": 11,
   "metadata": {},
   "outputs": [
    {
     "name": "stdout",
     "output_type": "stream",
     "text": [
      "Actual:  Simpy([1.0, 4.0, 9.0])  - Expected: Simpy([1.0, 4.0, 9.0])\n",
      "Actual:  Simpy([1.0, 8.0, 27.0])  - Expected: Simpy([1.0, 8.0, 27.0])\n"
     ]
    }
   ],
   "source": [
    "# This cell tests a Simpy ** float\n",
    "\n",
    "a = Simpy([1.0, 2.0, 3.0])\n",
    "b = a ** 2.0\n",
    "print(\"Actual: \", b, \" - Expected: Simpy([1.0, 4.0, 9.0])\")\n",
    "print(\"Actual: \", a ** 3.0, \" - Expected: Simpy([1.0, 8.0, 27.0])\")"
   ]
  },
  {
   "cell_type": "markdown",
   "metadata": {},
   "source": [
    "## Check #1 for Understanding\n",
    "\n",
    "In the cell below, use the capabilities you've added to `Simpy` to ultimately produce a `Simpy` object whose `values` are the first 16 powers of 2, starting from 2 ** 0 ranging up to 2 ** 15. You can, and should, make use of intermediate variables holding `Simpy` objects. You should use the `arange`, `fill`, and `__pow__` methods. Ultimately, you should `print` your object and expect the output of:\n",
    "\n",
    "~~~python\n",
    "Simpy([1.0, 2.0, 4.0, 8.0, 16.0, 32.0, 64.0, 128.0, 256.0, 512.0, 1024.0, 2048.0, 4096.0, 8192.0, 16384.0, 32768.0])\n",
    "~~~\n",
    "\n",
    "Your work should _not_ include any loops written in the cell below."
   ]
  },
  {
   "cell_type": "code",
   "execution_count": 12,
   "metadata": {},
   "outputs": [],
   "source": [
    "# TODO: Check #1 for Understanding\n"
   ]
  },
  {
   "cell_type": "markdown",
   "metadata": {},
   "source": [
    "## Part 7. `__eq__` operator overload for `==`\n",
    "\n",
    "Next, you will add the ability to produce a _mask_, or a `list[bool]`, based on the equality of each item in the `values` attribute with some other `Simpy` object or a `float` value. This operator overload will be similar to those above, but will instead return a `list[bool]` that you will later use to filter a `Simpy` array as you did previously with the `mask` function. The `__eq__` special method is automatically called when you write expressions using the `==` operator, as demonstrated below.\n",
    "\n",
    "Example use with two `Simpy` objects:\n",
    "\n",
    "~~~python\n",
    "a = Simpy([1.0, 2.0, 3.0, 4.0])\n",
    "b = Simpy([1.0, 2.0, 1.0, 4.0])\n",
    "c = a == b\n",
    "print(c)  # Output: [True, True, False, True]\n",
    "~~~\n",
    "\n",
    "Example use with a `Simpy` object and a `float`:\n",
    "\n",
    "~~~python\n",
    "a = Simpy([1.0, 2.0, 1.0, 4.0])\n",
    "b = a == 1.0\n",
    "print(b)  # Output: [True, False, True, False]\n",
    "~~~\n",
    "\n",
    "Your expected method signature of `__eq__` is:\n",
    "\n",
    "~~~python\n",
    "def __eq__(self, rhs: Union[float, Simpy]) -> list[bool]:\n",
    "~~~"
   ]
  },
  {
   "cell_type": "code",
   "execution_count": 13,
   "metadata": {},
   "outputs": [
    {
     "name": "stdout",
     "output_type": "stream",
     "text": [
      "Actual:  [True, True, False, True]  - Expected: [True, True, False, True]\n",
      "Actual:  [True, True, True, True]  - Expected: [True, True, True, True]\n"
     ]
    }
   ],
   "source": [
    "# This cell tests a Simpy == Simpy\n",
    "\n",
    "a = Simpy([1.0, 2.0, 3.0, 4.0])\n",
    "b = Simpy([1.0, 2.0, 1.0, 4.0])\n",
    "c = a == b\n",
    "print(\"Actual: \", c, \" - Expected: [True, True, False, True]\")\n",
    "print(\"Actual: \", a == a, \" - Expected: [True, True, True, True]\")"
   ]
  },
  {
   "cell_type": "code",
   "execution_count": 14,
   "metadata": {},
   "outputs": [
    {
     "name": "stdout",
     "output_type": "stream",
     "text": [
      "Actual:  [True, False, True, False]  - Expected: [True, False, True, False]\n",
      "Actual:  [False, True, False, False]  - Expected: [False, True, False, False]\n"
     ]
    }
   ],
   "source": [
    "# This cell tests a Simpy == float\n",
    "\n",
    "a = Simpy([1.0, 2.0, 1.0, 4.0])\n",
    "b = a == 1.0\n",
    "print(\"Actual: \", b, \" - Expected: [True, False, True, False]\")\n",
    "print(\"Actual: \", a == 2.0, \" - Expected: [False, True, False, False]\")"
   ]
  },
  {
   "cell_type": "markdown",
   "metadata": {},
   "source": [
    "## Part 8. `__gt__` operator overload for `>`\n",
    "\n",
    "Next, you will add the ability to produce a _mask_, or a `list[bool]`, based on the greater than relationship between each item in the `values` attribute with some other `Simpy` object or a `float` value. This operator overload will be VERY similar to the equality overload, but will test for greater than rather than equality.\n",
    "\n",
    "~~~python\n",
    "a = Simpy([1.0, 2.0, 3.0, 4.0])\n",
    "b = Simpy([2.0, 1.0, 1.0, 5.0])\n",
    "c = a > b\n",
    "print(c)  # Output: [False, True, True, False]\n",
    "~~~\n",
    "\n",
    "Example use with a `Simpy` object and a `float`:\n",
    "\n",
    "~~~python\n",
    "a = Simpy([1.0, 2.0, 3.0, 4.0])\n",
    "b = a > 2.0\n",
    "print(b)  # Output: [False, False, True, True]\n",
    "~~~\n",
    "\n",
    "Your expected method signature of `__gt__` is:\n",
    "\n",
    "~~~python\n",
    "def __gt__(self, rhs: Union[float, Simpy]) -> list[bool]:\n",
    "~~~"
   ]
  },
  {
   "cell_type": "code",
   "execution_count": 15,
   "metadata": {},
   "outputs": [
    {
     "name": "stdout",
     "output_type": "stream",
     "text": [
      "Actual:  [False, True, True, False]  - Expected: [False, True, True, False]\n",
      "Actual:  [True, False, False, True]  - Expected: [True, False, False, True]\n"
     ]
    }
   ],
   "source": [
    "# This cell tests a Simpy > Simpy\n",
    "\n",
    "a = Simpy([1.0, 2.0, 3.0, 4.0])\n",
    "b = Simpy([2.0, 1.0, 1.0, 5.0])\n",
    "c = a > b\n",
    "print(\"Actual: \", c, \" - Expected: [False, True, True, False]\")\n",
    "print(\"Actual: \", b > a, \" - Expected: [True, False, False, True]\")"
   ]
  },
  {
   "cell_type": "code",
   "execution_count": 16,
   "metadata": {},
   "outputs": [
    {
     "name": "stdout",
     "output_type": "stream",
     "text": [
      "Actual:  [False, False, True, True]  - Expected: [False, False, True, True]\n",
      "Actual:  [False, False, False, True]  - Expected: [False, False, False, True]\n"
     ]
    }
   ],
   "source": [
    "# This cell tests a Simpy > float\n",
    "\n",
    "a = Simpy([1.0, 2.0, 3.0, 4.0])\n",
    "b = a > 2.0\n",
    "print(\"Actual: \", b, \" - Expected: [False, False, True, True]\")\n",
    "print(\"Actual: \", a > 3.0, \" - Expected: [False, False, False, True]\")"
   ]
  },
  {
   "cell_type": "markdown",
   "metadata": {},
   "source": [
    "## Part 9. Subscription Notation with the `__getitem__` operator overload\n",
    "\n",
    "Next, you will add the ability to use the _subscription_ operator with `Simpy` objects. To add _subscription notation_ support to objects of classes you design, you must implement the special method named `__getitem__`.\n",
    "\n",
    "The `Simpy` object will use the subscription operator in two distinct ways. First, the most familiar behavior, you will be able to read specific items from the Simpy array.\n",
    "\n",
    "For example:\n",
    "\n",
    "~~~python\n",
    "a = Simpy([10.0, 20.0, 30.0])\n",
    "print(a[0])  # Output: 10.0\n",
    "print(a[1])  # Output: 20.0\n",
    "~~~\n",
    "\n",
    "For now, it is worth focusing on getting this first, simpler usage working. Then, in the next and final part of this exercise, you will get the second usage of subscription notation working.\n",
    "\n",
    "The expected signature of `__getitem__`  for this part is:\n",
    "\n",
    "~~~python\n",
    "def __getitem__(self, rhs: int) -> float:\n",
    "~~~"
   ]
  },
  {
   "cell_type": "code",
   "execution_count": 17,
   "metadata": {},
   "outputs": [
    {
     "ename": "TypeError",
     "evalue": "'Simpy' object is not subscriptable",
     "output_type": "error",
     "traceback": [
      "\u001b[1;31m---------------------------------------------------------------------------\u001b[0m",
      "\u001b[1;31mTypeError\u001b[0m                                 Traceback (most recent call last)",
      "Cell \u001b[1;32mIn[17], line 2\u001b[0m\n\u001b[0;32m      1\u001b[0m a \u001b[39m=\u001b[39m Simpy([\u001b[39m10.0\u001b[39m, \u001b[39m20.0\u001b[39m, \u001b[39m30.0\u001b[39m])\n\u001b[1;32m----> 2\u001b[0m \u001b[39mprint\u001b[39m(\u001b[39m\"\u001b[39m\u001b[39mActual: \u001b[39m\u001b[39m\"\u001b[39m, a[\u001b[39m0\u001b[39;49m], \u001b[39m\"\u001b[39m\u001b[39m - Expected: 10.0\u001b[39m\u001b[39m\"\u001b[39m)\n\u001b[0;32m      3\u001b[0m \u001b[39mprint\u001b[39m(\u001b[39m\"\u001b[39m\u001b[39mActual: \u001b[39m\u001b[39m\"\u001b[39m, a[\u001b[39m1\u001b[39m], \u001b[39m\"\u001b[39m\u001b[39m - Expected: 20.0\u001b[39m\u001b[39m\"\u001b[39m)\n\u001b[0;32m      4\u001b[0m \u001b[39mprint\u001b[39m(\u001b[39m\"\u001b[39m\u001b[39mActual: \u001b[39m\u001b[39m\"\u001b[39m, a[\u001b[39m2\u001b[39m], \u001b[39m\"\u001b[39m\u001b[39m - Expected: 30.0\u001b[39m\u001b[39m\"\u001b[39m)\n",
      "\u001b[1;31mTypeError\u001b[0m: 'Simpy' object is not subscriptable"
     ]
    }
   ],
   "source": [
    "a = Simpy([10.0, 20.0, 30.0])\n",
    "print(\"Actual: \", a[0], \" - Expected: 10.0\")\n",
    "print(\"Actual: \", a[1], \" - Expected: 20.0\")\n",
    "print(\"Actual: \", a[2], \" - Expected: 30.0\")"
   ]
  },
  {
   "cell_type": "markdown",
   "metadata": {},
   "source": [
    "## Part 10. Overloading the Subscription Notation to Filter with a Mask\n",
    "\n",
    "The acclaimed _NumPy_ library, that `Simpy` is inspired by, allows you to use the subscription operator not just to select individual items, but also to filter with a mask. It adds a second usage to the operator, just like you have had two uses of many of the operators above, such as adding two `Simpy`s or a `Simpy` and a `float`.\n",
    "\n",
    "The big idea of the second usage of subscription notation is that if instead of giving an `int` inside the subscription brackets you give a `list[bool]`, the expression will return a new `Simpy` object containing only the _masked_, or filtered, `values`. For example:\n",
    "\n",
    "~~~python\n",
    "a = Simpy([1.0, 2.0, 3.0, 4.0, 2.0, 1.0])\n",
    "mask = a > 2.0\n",
    "print(mask)  # Output: [False, False, True, True, False, False]\n",
    "b = a[mask]\n",
    "print(b) # Output: Simpy([3.0, 4.0])  \n",
    "~~~\n",
    "\n",
    "The above example did not need to establish a separate variable named `mask`, it only did so to make it obvious what the `mask` values were. More conventionally, the above example would be written in a shorter-form notation such as:\n",
    "\n",
    "~~~python\n",
    "a = Simpy([1.0, 2.0, 3.0, 4.0, 2.0, 1.0])\n",
    "b = a[a > 2.0]\n",
    "print(b) # Output: Simpy([3.0, 4.0])\n",
    "~~~\n",
    "\n",
    "Take a moment to reflect on how _expressive_ that second line is! For this expression to evaluate, first the `__gt__` method call must evaluate and finally a `__getitem__` method call whose behavior you will need to extend. Notice how natural this expression feels in English: from the `Simpy` object `a`, select the values that greater than `2.0`.\n",
    "\n",
    "Because of these two distinct use cases, notice not only the parameter given to `__getitem__` can either be an `int` in the first usage and a `list[bool]` in the second usage, but the return type will also be two different types: either a single `float` value or a new `Simpy` object.\n",
    "\n",
    "Thus, you will need to modify the signature of your `__getitem__` method and implement logic to test for whether `rhs` is an instance of an `int` or not.\n",
    "\n",
    "~~~python\n",
    "def __getitem__(self, rhs: Union[int, list[bool]]) -> Union[float, Simpy]:\n",
    "~~~"
   ]
  },
  {
   "cell_type": "code",
   "execution_count": null,
   "metadata": {},
   "outputs": [],
   "source": [
    "a = Simpy([1.0, 2.0, 3.0, 4.0, 2.0, 1.0])\n",
    "b = a[a > 2.0]\n",
    "print(\"Actual: \", b, \" - Expected: Simpy([3.0, 4.0])\")\n",
    "print(\"Actual: \", a[a + 1.0 == 2.0], \" - Expected: Simpy([1.0, 1.0])\")"
   ]
  },
  {
   "cell_type": "markdown",
   "metadata": {},
   "source": [
    "## Check #2 for Understanding\n",
    "\n",
    "Consider two `Simpy` objects that are \"columns\" of the same table. The `max_temps` object contains the maximum temperature for a given day, the `precip` object contains the amount of precipitation for the corresponding days.\n",
    "\n",
    "In terms of the functionalities implemented above, compute and print the sum of precipitation on days where the maximum temperature is greater than 32.0. You should not need to write any loops in the cell below in order to calculate this. Feel free to establish additional, intermediate variables as needed. Then try to simplify your solution as much as you possibly can. The expressions you write will ultimately need to call upon the operator overloads of `__gt__` and `__getitem__`. You will also need to use call your `sum` method."
   ]
  },
  {
   "cell_type": "code",
   "execution_count": null,
   "metadata": {},
   "outputs": [],
   "source": [
    "max_temps = Simpy([21.0, 30.0, 41.0, 31.0, 45.0, 31.5])\n",
    "precip = Simpy([0.0, 1.5, 0.1, 0.3, 0.2, 0.8])\n",
    "\n",
    "# TODO: Your solution goes here."
   ]
  },
  {
   "cell_type": "code",
   "execution_count": null,
   "metadata": {},
   "outputs": [],
   "source": []
  }
 ],
 "metadata": {
  "kernelspec": {
   "display_name": "Python 3.10.3 64-bit ('3.10.3')",
   "language": "python",
   "name": "python3"
  },
  "language_info": {
   "codemirror_mode": {
    "name": "ipython",
    "version": 3
   },
   "file_extension": ".py",
   "mimetype": "text/x-python",
   "name": "python",
   "nbconvert_exporter": "python",
   "pygments_lexer": "ipython3",
   "version": "3.11.3"
  },
  "vscode": {
   "interpreter": {
    "hash": "753bbf2db555ed67c0c563c87a15e570f057d104fc34ea0be00c622b1cb3541b"
   }
  }
 },
 "nbformat": 4,
 "nbformat_minor": 2
}
